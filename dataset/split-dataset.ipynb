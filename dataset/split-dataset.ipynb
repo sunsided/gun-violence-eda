{
 "cells": [
  {
   "cell_type": "markdown",
   "metadata": {},
   "source": [
    "# Gun Violence Dataset Preparation\n",
    "\n",
    "The source of the dataset is the [jamesqo/gun-violence-data](https://github.com/jamesqo/gun-violence-data) repository."
   ]
  },
  {
   "cell_type": "markdown",
   "metadata": {},
   "source": [
    "| field                   | type         | description                                                               | required? |\n",
    "|-----------------------------|------------------|-------------------------------------------------------------------------------|---------------|\n",
    "| incident_id                 | int              |                 gunviolencearchive.org ID for incident                        | yes           |\n",
    "| date                        | str              |                           date of occurrence                                  | yes           |\n",
    "| state                       | str              |                                                                               | yes           |\n",
    "| city_or_county              | str              |                                                                               | yes           |\n",
    "| address                     | str              | address where incident took place                                             | yes           |\n",
    "| n_killed                    | int              | number of people killed                                                       | yes           |\n",
    "| n_injured                   | int              | number of people injured                                                      | yes           |\n",
    "| incident_url                | str              | link to gunviolencearchive.org webpage containing details of incident         | yes           |\n",
    "| source_url                  | str              | link to online news story concerning incident                                 | no            |\n",
    "| incident_url_fields_missing | bool             | ignore, always False                                                          | yes           |\n",
    "| congressional_district      | int              |                                                                               | no            |\n",
    "| gun_stolen                  | dict[int, str] | key: gun ID, value: 'Unknown' or 'Stolen'                                     | no            |\n",
    "| gun_type                    | dict[int, str] | key: gun ID, value: description of gun type                                   | no            |\n",
    "| incident_characteristics    | list[str]        | list of incident characteristics                                              | no            |\n",
    "| latitude                    | float            |                                                                               | no            |\n",
    "| location_description        | str              | description of location where incident took place                             | no            |\n",
    "| longitude                   | float            |                                                                               | no            |\n",
    "| n_guns_involved             | int              | number of guns involved                                                       | no            |\n",
    "| notes                       | str              | additional notes about the incident                                           | no            |\n",
    "| participant_age             | dict[int, int] | key: participant ID                                                           | no            |\n",
    "| participant_age_group       | dict[int, str] | key: participant ID, value: description of age group, e.g. 'Adult 18+'        | no            |\n",
    "| participant_gender          | dict[int, str] | key: participant ID, value: 'Male' or 'Female'                                | no            |\n",
    "| participant_name            | dict[int, str] | key: participant ID                                                           | no            |\n",
    "| participant_relationship    | dict[int, str] | key: participant ID, value: relationship of participant to other participants | no            |\n",
    "| participant_status          | dict[int, str] | key: participant ID, value: 'Arrested', 'Killed', 'Injured', or 'Unharmed'    | no            |\n",
    "| participant_type            | dict[int, str] | key: participant ID, value: 'Victim' or 'Subject-Suspect'                     | no            |\n",
    "| sources                     | list[str]        | links to online news stories concerning incident                              | no            |\n",
    "| state_house_district        | int              |                                                                               | no            |\n",
    "| state_senate_district       | int              |                                                                               | no            |\n",
    "\n",
    "Important notes:\n",
    "\n",
    "- Each list is encoded as a string with separator `||`. For example, `\"a||b\"` represents `['a', 'b']`.\n",
    "- Each dict is encoded as a string with outer separator `||` and inner separator `::`. For example, `0::a, 1::b` represents `{0: 'a', 1: 'b'}`.\n",
    "- The \"gun ID\" and \"participant ID\" are numbers specific to a given incident that refer to a particular gun/person involved in that incident. For example, this:\n",
    "\n",
    "  ```\n",
    "  participant_age_group = 0::Teen 12-17||1::Adult 18+\n",
    "  participant_status = 0::Killed||1::Injured\n",
    "  participant_type = 0::Victim||1::Victim\n",
    "  ```\n",
    "\n",
    "corresponds to this:\n",
    "\n",
    "|                    | Age Group | Status | Type |\n",
    "|--------------------|---------------|------------|----------|\n",
    "| Participant #0 | Teen 12-17    | Killed     | Victim   |\n",
    "| Participant #1 | Adult 18+     | Injured    | Victim   |\n"
   ]
  },
  {
   "cell_type": "code",
   "execution_count": 1,
   "metadata": {},
   "outputs": [],
   "source": [
    "import pandas as pd"
   ]
  },
  {
   "cell_type": "code",
   "execution_count": 2,
   "metadata": {},
   "outputs": [],
   "source": [
    "df = pd.read_csv('stage3.csv').set_index('incident_id')"
   ]
  },
  {
   "cell_type": "code",
   "execution_count": 3,
   "metadata": {
    "scrolled": true
   },
   "outputs": [
    {
     "data": {
      "text/html": [
       "<div>\n",
       "<style scoped>\n",
       "    .dataframe tbody tr th:only-of-type {\n",
       "        vertical-align: middle;\n",
       "    }\n",
       "\n",
       "    .dataframe tbody tr th {\n",
       "        vertical-align: top;\n",
       "    }\n",
       "\n",
       "    .dataframe thead th {\n",
       "        text-align: right;\n",
       "    }\n",
       "</style>\n",
       "<table border=\"1\" class=\"dataframe\">\n",
       "  <thead>\n",
       "    <tr style=\"text-align: right;\">\n",
       "      <th></th>\n",
       "      <th>date</th>\n",
       "      <th>state</th>\n",
       "      <th>city_or_county</th>\n",
       "      <th>address</th>\n",
       "      <th>n_killed</th>\n",
       "      <th>n_injured</th>\n",
       "      <th>incident_url</th>\n",
       "      <th>source_url</th>\n",
       "      <th>incident_url_fields_missing</th>\n",
       "      <th>congressional_district</th>\n",
       "      <th>...</th>\n",
       "      <th>participant_age</th>\n",
       "      <th>participant_age_group</th>\n",
       "      <th>participant_gender</th>\n",
       "      <th>participant_name</th>\n",
       "      <th>participant_relationship</th>\n",
       "      <th>participant_status</th>\n",
       "      <th>participant_type</th>\n",
       "      <th>sources</th>\n",
       "      <th>state_house_district</th>\n",
       "      <th>state_senate_district</th>\n",
       "    </tr>\n",
       "    <tr>\n",
       "      <th>incident_id</th>\n",
       "      <th></th>\n",
       "      <th></th>\n",
       "      <th></th>\n",
       "      <th></th>\n",
       "      <th></th>\n",
       "      <th></th>\n",
       "      <th></th>\n",
       "      <th></th>\n",
       "      <th></th>\n",
       "      <th></th>\n",
       "      <th></th>\n",
       "      <th></th>\n",
       "      <th></th>\n",
       "      <th></th>\n",
       "      <th></th>\n",
       "      <th></th>\n",
       "      <th></th>\n",
       "      <th></th>\n",
       "      <th></th>\n",
       "      <th></th>\n",
       "      <th></th>\n",
       "    </tr>\n",
       "  </thead>\n",
       "  <tbody>\n",
       "    <tr>\n",
       "      <th>461105</th>\n",
       "      <td>2013-01-01</td>\n",
       "      <td>Pennsylvania</td>\n",
       "      <td>Mckeesport</td>\n",
       "      <td>1506 Versailles Avenue and Coursin Street</td>\n",
       "      <td>0</td>\n",
       "      <td>4</td>\n",
       "      <td>http://www.gunviolencearchive.org/incident/461105</td>\n",
       "      <td>http://www.post-gazette.com/local/south/2013/0...</td>\n",
       "      <td>False</td>\n",
       "      <td>14.0</td>\n",
       "      <td>...</td>\n",
       "      <td>0::20</td>\n",
       "      <td>0::Adult 18+||1::Adult 18+||2::Adult 18+||3::A...</td>\n",
       "      <td>0::Male||1::Male||3::Male||4::Female</td>\n",
       "      <td>0::Julian Sims</td>\n",
       "      <td>NaN</td>\n",
       "      <td>0::Arrested||1::Injured||2::Injured||3::Injure...</td>\n",
       "      <td>0::Victim||1::Victim||2::Victim||3::Victim||4:...</td>\n",
       "      <td>http://pittsburgh.cbslocal.com/2013/01/01/4-pe...</td>\n",
       "      <td>NaN</td>\n",
       "      <td>NaN</td>\n",
       "    </tr>\n",
       "    <tr>\n",
       "      <th>460726</th>\n",
       "      <td>2013-01-01</td>\n",
       "      <td>California</td>\n",
       "      <td>Hawthorne</td>\n",
       "      <td>13500 block of Cerise Avenue</td>\n",
       "      <td>1</td>\n",
       "      <td>3</td>\n",
       "      <td>http://www.gunviolencearchive.org/incident/460726</td>\n",
       "      <td>http://www.dailybulletin.com/article/zz/201301...</td>\n",
       "      <td>False</td>\n",
       "      <td>43.0</td>\n",
       "      <td>...</td>\n",
       "      <td>0::20</td>\n",
       "      <td>0::Adult 18+||1::Adult 18+||2::Adult 18+||3::A...</td>\n",
       "      <td>0::Male</td>\n",
       "      <td>0::Bernard Gillis</td>\n",
       "      <td>NaN</td>\n",
       "      <td>0::Killed||1::Injured||2::Injured||3::Injured</td>\n",
       "      <td>0::Victim||1::Victim||2::Victim||3::Victim||4:...</td>\n",
       "      <td>http://losangeles.cbslocal.com/2013/01/01/man-...</td>\n",
       "      <td>62.0</td>\n",
       "      <td>35.0</td>\n",
       "    </tr>\n",
       "    <tr>\n",
       "      <th>478855</th>\n",
       "      <td>2013-01-01</td>\n",
       "      <td>Ohio</td>\n",
       "      <td>Lorain</td>\n",
       "      <td>1776 East 28th Street</td>\n",
       "      <td>1</td>\n",
       "      <td>3</td>\n",
       "      <td>http://www.gunviolencearchive.org/incident/478855</td>\n",
       "      <td>http://chronicle.northcoastnow.com/2013/02/14/...</td>\n",
       "      <td>False</td>\n",
       "      <td>9.0</td>\n",
       "      <td>...</td>\n",
       "      <td>0::25||1::31||2::33||3::34||4::33</td>\n",
       "      <td>0::Adult 18+||1::Adult 18+||2::Adult 18+||3::A...</td>\n",
       "      <td>0::Male||1::Male||2::Male||3::Male||4::Male</td>\n",
       "      <td>0::Damien Bell||1::Desmen Noble||2::Herman Sea...</td>\n",
       "      <td>NaN</td>\n",
       "      <td>0::Injured, Unharmed, Arrested||1::Unharmed, A...</td>\n",
       "      <td>0::Subject-Suspect||1::Subject-Suspect||2::Vic...</td>\n",
       "      <td>http://www.morningjournal.com/general-news/201...</td>\n",
       "      <td>56.0</td>\n",
       "      <td>13.0</td>\n",
       "    </tr>\n",
       "    <tr>\n",
       "      <th>478925</th>\n",
       "      <td>2013-01-05</td>\n",
       "      <td>Colorado</td>\n",
       "      <td>Aurora</td>\n",
       "      <td>16000 block of East Ithaca Place</td>\n",
       "      <td>4</td>\n",
       "      <td>0</td>\n",
       "      <td>http://www.gunviolencearchive.org/incident/478925</td>\n",
       "      <td>http://www.dailydemocrat.com/20130106/aurora-s...</td>\n",
       "      <td>False</td>\n",
       "      <td>6.0</td>\n",
       "      <td>...</td>\n",
       "      <td>0::29||1::33||2::56||3::33</td>\n",
       "      <td>0::Adult 18+||1::Adult 18+||2::Adult 18+||3::A...</td>\n",
       "      <td>0::Female||1::Male||2::Male||3::Male</td>\n",
       "      <td>0::Stacie Philbrook||1::Christopher Ratliffe||...</td>\n",
       "      <td>NaN</td>\n",
       "      <td>0::Killed||1::Killed||2::Killed||3::Killed</td>\n",
       "      <td>0::Victim||1::Victim||2::Victim||3::Subject-Su...</td>\n",
       "      <td>http://denver.cbslocal.com/2013/01/06/officer-...</td>\n",
       "      <td>40.0</td>\n",
       "      <td>28.0</td>\n",
       "    </tr>\n",
       "    <tr>\n",
       "      <th>478959</th>\n",
       "      <td>2013-01-07</td>\n",
       "      <td>North Carolina</td>\n",
       "      <td>Greensboro</td>\n",
       "      <td>307 Mourning Dove Terrace</td>\n",
       "      <td>2</td>\n",
       "      <td>2</td>\n",
       "      <td>http://www.gunviolencearchive.org/incident/478959</td>\n",
       "      <td>http://www.journalnow.com/news/local/article_d...</td>\n",
       "      <td>False</td>\n",
       "      <td>6.0</td>\n",
       "      <td>...</td>\n",
       "      <td>0::18||1::46||2::14||3::47</td>\n",
       "      <td>0::Adult 18+||1::Adult 18+||2::Teen 12-17||3::...</td>\n",
       "      <td>0::Female||1::Male||2::Male||3::Female</td>\n",
       "      <td>0::Danielle Imani Jameison||1::Maurice Eugene ...</td>\n",
       "      <td>3::Family</td>\n",
       "      <td>0::Injured||1::Injured||2::Killed||3::Killed</td>\n",
       "      <td>0::Victim||1::Victim||2::Victim||3::Subject-Su...</td>\n",
       "      <td>http://myfox8.com/2013/01/08/update-mother-sho...</td>\n",
       "      <td>62.0</td>\n",
       "      <td>27.0</td>\n",
       "    </tr>\n",
       "  </tbody>\n",
       "</table>\n",
       "<p>5 rows × 28 columns</p>\n",
       "</div>"
      ],
      "text/plain": [
       "                   date           state city_or_county  \\\n",
       "incident_id                                              \n",
       "461105       2013-01-01    Pennsylvania     Mckeesport   \n",
       "460726       2013-01-01      California      Hawthorne   \n",
       "478855       2013-01-01            Ohio         Lorain   \n",
       "478925       2013-01-05        Colorado         Aurora   \n",
       "478959       2013-01-07  North Carolina     Greensboro   \n",
       "\n",
       "                                               address  n_killed  n_injured  \\\n",
       "incident_id                                                                   \n",
       "461105       1506 Versailles Avenue and Coursin Street         0          4   \n",
       "460726                    13500 block of Cerise Avenue         1          3   \n",
       "478855                           1776 East 28th Street         1          3   \n",
       "478925                16000 block of East Ithaca Place         4          0   \n",
       "478959                       307 Mourning Dove Terrace         2          2   \n",
       "\n",
       "                                                  incident_url  \\\n",
       "incident_id                                                      \n",
       "461105       http://www.gunviolencearchive.org/incident/461105   \n",
       "460726       http://www.gunviolencearchive.org/incident/460726   \n",
       "478855       http://www.gunviolencearchive.org/incident/478855   \n",
       "478925       http://www.gunviolencearchive.org/incident/478925   \n",
       "478959       http://www.gunviolencearchive.org/incident/478959   \n",
       "\n",
       "                                                    source_url  \\\n",
       "incident_id                                                      \n",
       "461105       http://www.post-gazette.com/local/south/2013/0...   \n",
       "460726       http://www.dailybulletin.com/article/zz/201301...   \n",
       "478855       http://chronicle.northcoastnow.com/2013/02/14/...   \n",
       "478925       http://www.dailydemocrat.com/20130106/aurora-s...   \n",
       "478959       http://www.journalnow.com/news/local/article_d...   \n",
       "\n",
       "             incident_url_fields_missing  congressional_district  \\\n",
       "incident_id                                                        \n",
       "461105                             False                    14.0   \n",
       "460726                             False                    43.0   \n",
       "478855                             False                     9.0   \n",
       "478925                             False                     6.0   \n",
       "478959                             False                     6.0   \n",
       "\n",
       "                     ...                             participant_age  \\\n",
       "incident_id          ...                                               \n",
       "461105               ...                                       0::20   \n",
       "460726               ...                                       0::20   \n",
       "478855               ...           0::25||1::31||2::33||3::34||4::33   \n",
       "478925               ...                  0::29||1::33||2::56||3::33   \n",
       "478959               ...                  0::18||1::46||2::14||3::47   \n",
       "\n",
       "                                         participant_age_group  \\\n",
       "incident_id                                                      \n",
       "461105       0::Adult 18+||1::Adult 18+||2::Adult 18+||3::A...   \n",
       "460726       0::Adult 18+||1::Adult 18+||2::Adult 18+||3::A...   \n",
       "478855       0::Adult 18+||1::Adult 18+||2::Adult 18+||3::A...   \n",
       "478925       0::Adult 18+||1::Adult 18+||2::Adult 18+||3::A...   \n",
       "478959       0::Adult 18+||1::Adult 18+||2::Teen 12-17||3::...   \n",
       "\n",
       "                                      participant_gender  \\\n",
       "incident_id                                                \n",
       "461105              0::Male||1::Male||3::Male||4::Female   \n",
       "460726                                           0::Male   \n",
       "478855       0::Male||1::Male||2::Male||3::Male||4::Male   \n",
       "478925              0::Female||1::Male||2::Male||3::Male   \n",
       "478959            0::Female||1::Male||2::Male||3::Female   \n",
       "\n",
       "                                              participant_name  \\\n",
       "incident_id                                                      \n",
       "461105                                          0::Julian Sims   \n",
       "460726                                       0::Bernard Gillis   \n",
       "478855       0::Damien Bell||1::Desmen Noble||2::Herman Sea...   \n",
       "478925       0::Stacie Philbrook||1::Christopher Ratliffe||...   \n",
       "478959       0::Danielle Imani Jameison||1::Maurice Eugene ...   \n",
       "\n",
       "            participant_relationship  \\\n",
       "incident_id                            \n",
       "461105                           NaN   \n",
       "460726                           NaN   \n",
       "478855                           NaN   \n",
       "478925                           NaN   \n",
       "478959                     3::Family   \n",
       "\n",
       "                                            participant_status  \\\n",
       "incident_id                                                      \n",
       "461105       0::Arrested||1::Injured||2::Injured||3::Injure...   \n",
       "460726           0::Killed||1::Injured||2::Injured||3::Injured   \n",
       "478855       0::Injured, Unharmed, Arrested||1::Unharmed, A...   \n",
       "478925              0::Killed||1::Killed||2::Killed||3::Killed   \n",
       "478959            0::Injured||1::Injured||2::Killed||3::Killed   \n",
       "\n",
       "                                              participant_type  \\\n",
       "incident_id                                                      \n",
       "461105       0::Victim||1::Victim||2::Victim||3::Victim||4:...   \n",
       "460726       0::Victim||1::Victim||2::Victim||3::Victim||4:...   \n",
       "478855       0::Subject-Suspect||1::Subject-Suspect||2::Vic...   \n",
       "478925       0::Victim||1::Victim||2::Victim||3::Subject-Su...   \n",
       "478959       0::Victim||1::Victim||2::Victim||3::Subject-Su...   \n",
       "\n",
       "                                                       sources  \\\n",
       "incident_id                                                      \n",
       "461105       http://pittsburgh.cbslocal.com/2013/01/01/4-pe...   \n",
       "460726       http://losangeles.cbslocal.com/2013/01/01/man-...   \n",
       "478855       http://www.morningjournal.com/general-news/201...   \n",
       "478925       http://denver.cbslocal.com/2013/01/06/officer-...   \n",
       "478959       http://myfox8.com/2013/01/08/update-mother-sho...   \n",
       "\n",
       "            state_house_district state_senate_district  \n",
       "incident_id                                             \n",
       "461105                       NaN                   NaN  \n",
       "460726                      62.0                  35.0  \n",
       "478855                      56.0                  13.0  \n",
       "478925                      40.0                  28.0  \n",
       "478959                      62.0                  27.0  \n",
       "\n",
       "[5 rows x 28 columns]"
      ]
     },
     "execution_count": 3,
     "metadata": {},
     "output_type": "execute_result"
    }
   ],
   "source": [
    "df.head(n=5)"
   ]
  },
  {
   "cell_type": "code",
   "execution_count": 4,
   "metadata": {
    "scrolled": true
   },
   "outputs": [
    {
     "data": {
      "text/plain": [
       "Index(['date', 'state', 'city_or_county', 'address', 'n_killed', 'n_injured',\n",
       "       'incident_url', 'source_url', 'incident_url_fields_missing',\n",
       "       'congressional_district', 'gun_stolen', 'gun_type',\n",
       "       'incident_characteristics', 'latitude', 'location_description',\n",
       "       'longitude', 'n_guns_involved', 'notes', 'participant_age',\n",
       "       'participant_age_group', 'participant_gender', 'participant_name',\n",
       "       'participant_relationship', 'participant_status', 'participant_type',\n",
       "       'sources', 'state_house_district', 'state_senate_district'],\n",
       "      dtype='object')"
      ]
     },
     "execution_count": 4,
     "metadata": {},
     "output_type": "execute_result"
    }
   ],
   "source": [
    "df.columns"
   ]
  },
  {
   "cell_type": "code",
   "execution_count": 5,
   "metadata": {},
   "outputs": [
    {
     "data": {
      "text/plain": [
       "('2013-01-01', '2018-03-31')"
      ]
     },
     "execution_count": 5,
     "metadata": {},
     "output_type": "execute_result"
    }
   ],
   "source": [
    "df['date'].min(), df['date'].max()"
   ]
  },
  {
   "cell_type": "code",
   "execution_count": 6,
   "metadata": {},
   "outputs": [
    {
     "data": {
      "text/plain": [
       "incident_id\n",
       "482856        John's Barber Shop\n",
       "486623        Down Home Pharmacy\n",
       "487833     Brinkhaven Apartments\n",
       "492276    Pritchett Trucking Inc\n",
       "480521       Cornell Square Park\n",
       "Name: location_description, dtype: object"
      ]
     },
     "execution_count": 6,
     "metadata": {},
     "output_type": "execute_result"
    }
   ],
   "source": [
    "df.dropna().head(n=5)['location_description']"
   ]
  },
  {
   "cell_type": "markdown",
   "metadata": {},
   "source": [
    "Participant and gun data is encoded in lists. Here's some participant information for the an entry:"
   ]
  },
  {
   "cell_type": "code",
   "execution_count": 7,
   "metadata": {},
   "outputs": [
    {
     "data": {
      "text/plain": [
       "'0::25||1::31||2::33||3::34||4::33'"
      ]
     },
     "execution_count": 7,
     "metadata": {},
     "output_type": "execute_result"
    }
   ],
   "source": [
    "sample = df.iloc[2]\n",
    "sample['participant_age']"
   ]
  },
  {
   "cell_type": "code",
   "execution_count": 8,
   "metadata": {},
   "outputs": [
    {
     "data": {
      "text/plain": [
       "'0::Adult 18+||1::Adult 18+||2::Adult 18+||3::Adult 18+||4::Adult 18+'"
      ]
     },
     "execution_count": 8,
     "metadata": {},
     "output_type": "execute_result"
    }
   ],
   "source": [
    "sample['participant_age_group']"
   ]
  },
  {
   "cell_type": "code",
   "execution_count": 9,
   "metadata": {},
   "outputs": [
    {
     "data": {
      "text/plain": [
       "'0::Male||1::Male||2::Male||3::Male||4::Male'"
      ]
     },
     "execution_count": 9,
     "metadata": {},
     "output_type": "execute_result"
    }
   ],
   "source": [
    "sample['participant_gender']"
   ]
  },
  {
   "cell_type": "code",
   "execution_count": 10,
   "metadata": {},
   "outputs": [
    {
     "data": {
      "text/plain": [
       "'0::Subject-Suspect||1::Subject-Suspect||2::Victim||3::Victim||4::Victim'"
      ]
     },
     "execution_count": 10,
     "metadata": {},
     "output_type": "execute_result"
    }
   ],
   "source": [
    "sample['participant_type']"
   ]
  },
  {
   "cell_type": "code",
   "execution_count": 11,
   "metadata": {},
   "outputs": [
    {
     "data": {
      "text/plain": [
       "'0::Damien Bell||1::Desmen Noble||2::Herman Seagers||3::Ladd Tate Sr||4::Tallis Moore'"
      ]
     },
     "execution_count": 11,
     "metadata": {},
     "output_type": "execute_result"
    }
   ],
   "source": [
    "sample['participant_name']"
   ]
  },
  {
   "cell_type": "code",
   "execution_count": 12,
   "metadata": {},
   "outputs": [
    {
     "data": {
      "text/plain": [
       "nan"
      ]
     },
     "execution_count": 12,
     "metadata": {},
     "output_type": "execute_result"
    }
   ],
   "source": [
    "sample['participant_relationship']"
   ]
  },
  {
   "cell_type": "code",
   "execution_count": 13,
   "metadata": {},
   "outputs": [
    {
     "data": {
      "text/plain": [
       "'0::Injured, Unharmed, Arrested||1::Unharmed, Arrested||2::Killed||3::Injured||4::Injured'"
      ]
     },
     "execution_count": 13,
     "metadata": {},
     "output_type": "execute_result"
    }
   ],
   "source": [
    "sample['participant_status']"
   ]
  },
  {
   "cell_type": "code",
   "execution_count": 14,
   "metadata": {
    "scrolled": true
   },
   "outputs": [
    {
     "data": {
      "text/plain": [
       "'0::Subject-Suspect||1::Subject-Suspect||2::Victim||3::Victim||4::Victim'"
      ]
     },
     "execution_count": 14,
     "metadata": {},
     "output_type": "execute_result"
    }
   ],
   "source": [
    "sample['participant_type']"
   ]
  },
  {
   "cell_type": "markdown",
   "metadata": {},
   "source": [
    "And here is gun information:"
   ]
  },
  {
   "cell_type": "code",
   "execution_count": 15,
   "metadata": {},
   "outputs": [
    {
     "data": {
      "text/plain": [
       "2.0"
      ]
     },
     "execution_count": 15,
     "metadata": {},
     "output_type": "execute_result"
    }
   ],
   "source": [
    "sample['n_guns_involved']"
   ]
  },
  {
   "cell_type": "code",
   "execution_count": 16,
   "metadata": {},
   "outputs": [
    {
     "data": {
      "text/plain": [
       "'0::Unknown||1::Unknown'"
      ]
     },
     "execution_count": 16,
     "metadata": {},
     "output_type": "execute_result"
    }
   ],
   "source": [
    "sample['gun_stolen']"
   ]
  },
  {
   "cell_type": "code",
   "execution_count": 17,
   "metadata": {},
   "outputs": [
    {
     "data": {
      "text/plain": [
       "'0::Unknown||1::Unknown'"
      ]
     },
     "execution_count": 17,
     "metadata": {},
     "output_type": "execute_result"
    }
   ],
   "source": [
    "sample['gun_type']"
   ]
  },
  {
   "cell_type": "code",
   "execution_count": 18,
   "metadata": {},
   "outputs": [
    {
     "data": {
      "text/plain": [
       "'Shot - Wounded/Injured||Shot - Dead (murder, accidental, suicide)||Shots Fired - No Injuries||Bar/club incident - in or around establishment'"
      ]
     },
     "execution_count": 18,
     "metadata": {},
     "output_type": "execute_result"
    }
   ],
   "source": [
    "sample['incident_characteristics']"
   ]
  },
  {
   "cell_type": "markdown",
   "metadata": {},
   "source": [
    "## Splitting the lists and dictionaries into rows"
   ]
  },
  {
   "cell_type": "code",
   "execution_count": 19,
   "metadata": {},
   "outputs": [],
   "source": [
    "from typing import List, Dict\n",
    "\n",
    "def split_list(row: pd.DataFrame, field: str) -> List[str]:\n",
    "    value = row[field]\n",
    "    if isinstance(value, float):\n",
    "        return []\n",
    "    return value.replace('||', '|').split('|')\n",
    "\n",
    "def split_dict(row: pd.DataFrame, field: str) -> Dict[str, str]:\n",
    "    # Sadly the format is broken and does not necessarily split on '::',\n",
    "    # but also contains ':'\n",
    "    pairs = [x.replace('::', ':').split(':') \n",
    "             for x in split_list(row, field)]\n",
    "    return {p[0]: p[1] for p in pairs if len(p) > 0}"
   ]
  },
  {
   "cell_type": "code",
   "execution_count": 20,
   "metadata": {},
   "outputs": [],
   "source": [
    "import csv\n",
    "\n",
    "incident_participants = {}  # type: Dict[int, int]\n",
    "\n",
    "with open('participants.csv', 'w') as f:\n",
    "    fieldnames = ['incident_id', \n",
    "                  'participant_no',\n",
    "                  'participant_count',\n",
    "                  'participant_age',\n",
    "                  'participant_age_group',\n",
    "                  'participant_gender',\n",
    "                  'participant_type',\n",
    "                  'participant_status',\n",
    "                  'participant_relationship',\n",
    "                  'participant_name']\n",
    "    writer = csv.DictWriter(f, fieldnames=fieldnames)\n",
    "    writer.writeheader()\n",
    "\n",
    "    for incident, row in df.iterrows():\n",
    "        # Factors\n",
    "        participant_age_group = split_dict(row, 'participant_age_group')\n",
    "        participant_gender = split_dict(row, 'participant_gender')\n",
    "        participant_relationship = split_dict(row, 'participant_relationship')\n",
    "        participant_status = split_dict(row, 'participant_status')\n",
    "        participant_type = split_dict(row, 'participant_type')\n",
    "\n",
    "        # Values\n",
    "        participant_age = split_dict(row, 'participant_age')\n",
    "        participant_name = split_dict(row, 'participant_name')\n",
    "\n",
    "        # Collect the IDs\n",
    "        ids = set()\n",
    "        ids.update(participant_age_group.keys())\n",
    "        ids.update(participant_gender.keys())\n",
    "        ids.update(participant_relationship.keys())\n",
    "        ids.update(participant_status.keys())\n",
    "        ids.update(participant_type.keys())\n",
    "        ids.update(participant_age.keys())\n",
    "        ids.update(participant_name.keys())\n",
    "\n",
    "        # The number of participants might be stored in another file.\n",
    "        participent_count = (int(max(ids)) + 1) if len(ids) else 0\n",
    "        incident_participants[incident] = participent_count\n",
    "        \n",
    "        for i in ids:\n",
    "            out = {'incident_id': incident,\n",
    "                   'participant_no': int(i) + 1,\n",
    "                   'participant_count': participent_count,\n",
    "                   'participant_age_group': participant_age_group.get(i, ''),\n",
    "                   'participant_gender': participant_gender.get(i, ''),\n",
    "                   'participant_relationship': participant_relationship.get(i, ''),\n",
    "                   'participant_status': participant_status.get(i, ''),\n",
    "                   'participant_type': participant_type.get(i, ''),\n",
    "                   'participant_age': participant_age.get(i, ''),\n",
    "                   'participant_name': participant_name.get(i, '')\n",
    "                  }\n",
    "            writer.writerow(out)"
   ]
  },
  {
   "cell_type": "code",
   "execution_count": 21,
   "metadata": {},
   "outputs": [],
   "source": [
    "with open('gun_use.csv', 'w') as f:\n",
    "    fieldnames = ['incident_id', \n",
    "                  'gun_no',\n",
    "                  'gun_count',\n",
    "                  'gun_stolen',\n",
    "                  'gun_type']\n",
    "    writer = csv.DictWriter(f, fieldnames=fieldnames)\n",
    "    writer.writeheader()\n",
    "\n",
    "    for incident, row in df.iterrows():\n",
    "        gun_stolen = split_dict(row, 'gun_stolen')\n",
    "        gun_type = split_dict(row, 'gun_type')\n",
    "        \n",
    "        # Collect the IDs\n",
    "        ids = set()\n",
    "        ids.update(gun_stolen.keys())\n",
    "        ids.update(gun_type.keys())\n",
    "        \n",
    "        for i in ids:\n",
    "            out = {'incident_id': incident,\n",
    "                   'gun_no': int(i) + 1,\n",
    "                   'gun_count': int(row['n_guns_involved']),\n",
    "                   'gun_stolen': gun_stolen.get(i, ''),\n",
    "                   'gun_type': gun_type.get(i, '')\n",
    "                  }\n",
    "            writer.writerow(out)"
   ]
  },
  {
   "cell_type": "code",
   "execution_count": 22,
   "metadata": {},
   "outputs": [],
   "source": [
    "with open('characteristics.csv', 'w') as f:\n",
    "    fieldnames = ['incident_id', \n",
    "                  'incident_characteristic_no',\n",
    "                  'incident_characteristics']\n",
    "    writer = csv.DictWriter(f, fieldnames=fieldnames)\n",
    "    writer.writeheader()\n",
    "\n",
    "    for incident, row in df.iterrows():\n",
    "        incident_characteristics = split_list(row, 'incident_characteristics')\n",
    "        \n",
    "        for i, c in enumerate(incident_characteristics):\n",
    "            out = {\n",
    "                'incident_id': incident,\n",
    "                'incident_characteristic_no': i,\n",
    "                'incident_characteristics': c\n",
    "            }\n",
    "            writer.writerow(out)"
   ]
  },
  {
   "cell_type": "code",
   "execution_count": 23,
   "metadata": {},
   "outputs": [],
   "source": [
    "df_incident_participants = pd.Series(incident_participants).to_frame()\n",
    "df_incident_participants.columns = ['incident_participants']"
   ]
  },
  {
   "cell_type": "markdown",
   "metadata": {},
   "source": [
    "Lastly, we drop fields that were already saved to other files and/or provide no actual datapoints; for research however, we keep the source and incident URLs."
   ]
  },
  {
   "cell_type": "code",
   "execution_count": 28,
   "metadata": {},
   "outputs": [
    {
     "data": {
      "text/html": [
       "<div>\n",
       "<style scoped>\n",
       "    .dataframe tbody tr th:only-of-type {\n",
       "        vertical-align: middle;\n",
       "    }\n",
       "\n",
       "    .dataframe tbody tr th {\n",
       "        vertical-align: top;\n",
       "    }\n",
       "\n",
       "    .dataframe thead th {\n",
       "        text-align: right;\n",
       "    }\n",
       "</style>\n",
       "<table border=\"1\" class=\"dataframe\">\n",
       "  <thead>\n",
       "    <tr style=\"text-align: right;\">\n",
       "      <th></th>\n",
       "      <th>date</th>\n",
       "      <th>state</th>\n",
       "      <th>city_or_county</th>\n",
       "      <th>n_killed</th>\n",
       "      <th>n_injured</th>\n",
       "      <th>congressional_district</th>\n",
       "      <th>latitude</th>\n",
       "      <th>longitude</th>\n",
       "      <th>n_guns_involved</th>\n",
       "      <th>state_house_district</th>\n",
       "      <th>state_senate_district</th>\n",
       "      <th>source_url</th>\n",
       "      <th>incident_url</th>\n",
       "      <th>incident_participants</th>\n",
       "    </tr>\n",
       "    <tr>\n",
       "      <th>incident_id</th>\n",
       "      <th></th>\n",
       "      <th></th>\n",
       "      <th></th>\n",
       "      <th></th>\n",
       "      <th></th>\n",
       "      <th></th>\n",
       "      <th></th>\n",
       "      <th></th>\n",
       "      <th></th>\n",
       "      <th></th>\n",
       "      <th></th>\n",
       "      <th></th>\n",
       "      <th></th>\n",
       "      <th></th>\n",
       "    </tr>\n",
       "  </thead>\n",
       "  <tbody>\n",
       "    <tr>\n",
       "      <th>461105</th>\n",
       "      <td>2013-01-01</td>\n",
       "      <td>Pennsylvania</td>\n",
       "      <td>Mckeesport</td>\n",
       "      <td>0</td>\n",
       "      <td>4</td>\n",
       "      <td>14.0</td>\n",
       "      <td>40.3467</td>\n",
       "      <td>-79.8559</td>\n",
       "      <td>NaN</td>\n",
       "      <td>NaN</td>\n",
       "      <td>NaN</td>\n",
       "      <td>http://www.post-gazette.com/local/south/2013/0...</td>\n",
       "      <td>http://www.gunviolencearchive.org/incident/461105</td>\n",
       "      <td>5</td>\n",
       "    </tr>\n",
       "    <tr>\n",
       "      <th>460726</th>\n",
       "      <td>2013-01-01</td>\n",
       "      <td>California</td>\n",
       "      <td>Hawthorne</td>\n",
       "      <td>1</td>\n",
       "      <td>3</td>\n",
       "      <td>43.0</td>\n",
       "      <td>33.9090</td>\n",
       "      <td>-118.3330</td>\n",
       "      <td>NaN</td>\n",
       "      <td>62.0</td>\n",
       "      <td>35.0</td>\n",
       "      <td>http://www.dailybulletin.com/article/zz/201301...</td>\n",
       "      <td>http://www.gunviolencearchive.org/incident/460726</td>\n",
       "      <td>5</td>\n",
       "    </tr>\n",
       "    <tr>\n",
       "      <th>478855</th>\n",
       "      <td>2013-01-01</td>\n",
       "      <td>Ohio</td>\n",
       "      <td>Lorain</td>\n",
       "      <td>1</td>\n",
       "      <td>3</td>\n",
       "      <td>9.0</td>\n",
       "      <td>41.4455</td>\n",
       "      <td>-82.1377</td>\n",
       "      <td>2.0</td>\n",
       "      <td>56.0</td>\n",
       "      <td>13.0</td>\n",
       "      <td>http://chronicle.northcoastnow.com/2013/02/14/...</td>\n",
       "      <td>http://www.gunviolencearchive.org/incident/478855</td>\n",
       "      <td>5</td>\n",
       "    </tr>\n",
       "    <tr>\n",
       "      <th>478925</th>\n",
       "      <td>2013-01-05</td>\n",
       "      <td>Colorado</td>\n",
       "      <td>Aurora</td>\n",
       "      <td>4</td>\n",
       "      <td>0</td>\n",
       "      <td>6.0</td>\n",
       "      <td>39.6518</td>\n",
       "      <td>-104.8020</td>\n",
       "      <td>NaN</td>\n",
       "      <td>40.0</td>\n",
       "      <td>28.0</td>\n",
       "      <td>http://www.dailydemocrat.com/20130106/aurora-s...</td>\n",
       "      <td>http://www.gunviolencearchive.org/incident/478925</td>\n",
       "      <td>4</td>\n",
       "    </tr>\n",
       "    <tr>\n",
       "      <th>478959</th>\n",
       "      <td>2013-01-07</td>\n",
       "      <td>North Carolina</td>\n",
       "      <td>Greensboro</td>\n",
       "      <td>2</td>\n",
       "      <td>2</td>\n",
       "      <td>6.0</td>\n",
       "      <td>36.1140</td>\n",
       "      <td>-79.9569</td>\n",
       "      <td>2.0</td>\n",
       "      <td>62.0</td>\n",
       "      <td>27.0</td>\n",
       "      <td>http://www.journalnow.com/news/local/article_d...</td>\n",
       "      <td>http://www.gunviolencearchive.org/incident/478959</td>\n",
       "      <td>4</td>\n",
       "    </tr>\n",
       "  </tbody>\n",
       "</table>\n",
       "</div>"
      ],
      "text/plain": [
       "                   date           state city_or_county  n_killed  n_injured  \\\n",
       "incident_id                                                                   \n",
       "461105       2013-01-01    Pennsylvania     Mckeesport         0          4   \n",
       "460726       2013-01-01      California      Hawthorne         1          3   \n",
       "478855       2013-01-01            Ohio         Lorain         1          3   \n",
       "478925       2013-01-05        Colorado         Aurora         4          0   \n",
       "478959       2013-01-07  North Carolina     Greensboro         2          2   \n",
       "\n",
       "             congressional_district  latitude  longitude  n_guns_involved  \\\n",
       "incident_id                                                                 \n",
       "461105                         14.0   40.3467   -79.8559              NaN   \n",
       "460726                         43.0   33.9090  -118.3330              NaN   \n",
       "478855                          9.0   41.4455   -82.1377              2.0   \n",
       "478925                          6.0   39.6518  -104.8020              NaN   \n",
       "478959                          6.0   36.1140   -79.9569              2.0   \n",
       "\n",
       "             state_house_district  state_senate_district  \\\n",
       "incident_id                                                \n",
       "461105                        NaN                    NaN   \n",
       "460726                       62.0                   35.0   \n",
       "478855                       56.0                   13.0   \n",
       "478925                       40.0                   28.0   \n",
       "478959                       62.0                   27.0   \n",
       "\n",
       "                                                    source_url  \\\n",
       "incident_id                                                      \n",
       "461105       http://www.post-gazette.com/local/south/2013/0...   \n",
       "460726       http://www.dailybulletin.com/article/zz/201301...   \n",
       "478855       http://chronicle.northcoastnow.com/2013/02/14/...   \n",
       "478925       http://www.dailydemocrat.com/20130106/aurora-s...   \n",
       "478959       http://www.journalnow.com/news/local/article_d...   \n",
       "\n",
       "                                                  incident_url  \\\n",
       "incident_id                                                      \n",
       "461105       http://www.gunviolencearchive.org/incident/461105   \n",
       "460726       http://www.gunviolencearchive.org/incident/460726   \n",
       "478855       http://www.gunviolencearchive.org/incident/478855   \n",
       "478925       http://www.gunviolencearchive.org/incident/478925   \n",
       "478959       http://www.gunviolencearchive.org/incident/478959   \n",
       "\n",
       "             incident_participants  \n",
       "incident_id                         \n",
       "461105                           5  \n",
       "460726                           5  \n",
       "478855                           5  \n",
       "478925                           4  \n",
       "478959                           4  "
      ]
     },
     "execution_count": 28,
     "metadata": {},
     "output_type": "execute_result"
    }
   ],
   "source": [
    "df_smaller = df[['date', 'state', 'city_or_county', 'n_killed', 'n_injured',\n",
    "       'congressional_district', \n",
    "       'latitude', 'longitude', 'n_guns_involved', 'state_house_district', 'state_senate_district',\n",
    "                'source_url', 'incident_url']].join(df_incident_participants)\n",
    "\n",
    "df_smaller.head()"
   ]
  },
  {
   "cell_type": "code",
   "execution_count": 29,
   "metadata": {},
   "outputs": [],
   "source": [
    "df_smaller.to_csv('incidents.csv')"
   ]
  }
 ],
 "metadata": {
  "kernelspec": {
   "display_name": "Python [conda env:dand-eda-r]",
   "language": "python",
   "name": "conda-env-dand-eda-r-py"
  },
  "language_info": {
   "codemirror_mode": {
    "name": "ipython",
    "version": 3
   },
   "file_extension": ".py",
   "mimetype": "text/x-python",
   "name": "python",
   "nbconvert_exporter": "python",
   "pygments_lexer": "ipython3",
   "version": "3.6.6"
  }
 },
 "nbformat": 4,
 "nbformat_minor": 2
}
